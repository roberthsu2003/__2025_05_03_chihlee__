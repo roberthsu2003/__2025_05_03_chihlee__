{
 "cells": [
  {
   "cell_type": "markdown",
   "id": "0f2abc2b",
   "metadata": {},
   "source": [
    "https://www.perplexity.ai/search/f834ba4a-c32d-48c7-bfc3-36ef4d2b6d11"
   ]
  },
  {
   "cell_type": "code",
   "execution_count": null,
   "id": "79c5fd70",
   "metadata": {},
   "outputs": [
    {
     "data": {
      "text/plain": [
       "[15, 25, 35, 45, 55]"
      ]
     },
     "execution_count": 10,
     "metadata": {},
     "output_type": "execute_result"
    }
   ],
   "source": [
    "#list\n",
    "scores:list = [10, 20 , 30, 40, 50]\n",
    "scores:list = list(range(10,60,10))\n",
    "\n",
    "# scores1:list = list()\n",
    "# for score in scores:\n",
    "#     score += 5\n",
    "#     scores1.append(score)\n",
    "scores1 = [score+5 for score in scores]\n",
    "scores1"
   ]
  },
  {
   "cell_type": "code",
   "execution_count": 12,
   "id": "e8624c92",
   "metadata": {},
   "outputs": [
    {
     "data": {
      "text/plain": [
       "array([15, 25, 35, 45, 55])"
      ]
     },
     "execution_count": 12,
     "metadata": {},
     "output_type": "execute_result"
    }
   ],
   "source": [
    "#numpy\n",
    "import numpy as np\n",
    "\n",
    "array = np.array([10, 20 , 30, 40, 50])\n",
    "type(array)\n",
    "array1 = array + 5\n",
    "array1"
   ]
  }
 ],
 "metadata": {
  "kernelspec": {
   "display_name": "chihlee1",
   "language": "python",
   "name": "python3"
  },
  "language_info": {
   "codemirror_mode": {
    "name": "ipython",
    "version": 3
   },
   "file_extension": ".py",
   "mimetype": "text/x-python",
   "name": "python",
   "nbconvert_exporter": "python",
   "pygments_lexer": "ipython3",
   "version": "3.10.16"
  }
 },
 "nbformat": 4,
 "nbformat_minor": 5
}
