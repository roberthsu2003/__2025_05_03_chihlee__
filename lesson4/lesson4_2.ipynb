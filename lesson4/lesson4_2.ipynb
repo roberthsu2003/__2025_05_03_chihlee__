{
  "nbformat": 4,
  "nbformat_minor": 0,
  "metadata": {
    "colab": {
      "provenance": [],
      "authorship_tag": "ABX9TyPO1tlhBLRGTouN2n9UAk7p",
      "include_colab_link": true
    },
    "kernelspec": {
      "name": "python3",
      "display_name": "Python 3"
    },
    "language_info": {
      "name": "python"
    }
  },
  "cells": [
    {
      "cell_type": "markdown",
      "metadata": {
        "id": "view-in-github",
        "colab_type": "text"
      },
      "source": [
        "<a href=\"https://colab.research.google.com/github/roberthsu2003/__2025_05_03_chihlee__/blob/main/lesson4/lesson4_2.ipynb\" target=\"_parent\"><img src=\"https://colab.research.google.com/assets/colab-badge.svg\" alt=\"Open In Colab\"/></a>"
      ]
    },
    {
      "cell_type": "markdown",
      "source": [
        "# python while迴圈說明\n",
        "\n",
        "---\n",
        "\n",
        "Python 的 while 迴圈用來根據條件判斷，重複執行某段程式碼，直到條件不成立為止。其基本語法如下：\n",
        "\n",
        "```\n",
        "while 條件:\n",
        "    程式區塊\n",
        "```\n",
        "\n",
        "•\t當條件為 True 時，會執行縮排的程式區塊。  \n",
        "•\t每次執行完程式區塊後，會再次檢查條件，若仍為 True，則繼續執行迴圈。  \n",
        "•\t當條件變為 False，迴圈結束，程式往下繼續執行。"
      ],
      "metadata": {
        "id": "zcDHxtwK8Ggo"
      }
    },
    {
      "cell_type": "code",
      "execution_count": null,
      "metadata": {
        "id": "UoU5Yb0N7498"
      },
      "outputs": [],
      "source": [
        "count = 1\n",
        "while count <= 5:\n",
        "    print(count)\n",
        "    count += 1"
      ]
    },
    {
      "cell_type": "code",
      "source": [
        "total = 0\n",
        "while True:\n",
        "    num = int(input(\"請輸入一個數字（輸入 0 結束）：\"))\n",
        "    if num == 0:\n",
        "        break\n",
        "    total += num\n",
        "print(\"總和：\", total)"
      ],
      "metadata": {
        "colab": {
          "base_uri": "https://localhost:8080/"
        },
        "id": "c-Dto-NL_c7F",
        "outputId": "75011b55-14d5-4e0d-df28-8f2dd12543db"
      },
      "execution_count": 1,
      "outputs": [
        {
          "output_type": "stream",
          "name": "stdout",
          "text": [
            "請輸入一個數字（輸入 0 結束）：5\n",
            "請輸入一個數字（輸入 0 結束）：10\n",
            "請輸入一個數字（輸入 0 結束）：0\n",
            "總和： 15\n"
          ]
        }
      ]
    },
    {
      "cell_type": "markdown",
      "source": [
        "# python 取得亂數1~100"
      ],
      "metadata": {
        "id": "h6trKfR_HgTX"
      }
    },
    {
      "cell_type": "code",
      "source": [
        "import random\n",
        "min = 1\n",
        "max = 99\n",
        "count = 0\n",
        "random_number = random.randint(min,max)\n",
        "#print(random_number)\n",
        "print(\"=====猜數字遊戲開始=========\\n\\n\")\n",
        "while True:\n",
        "  input_number = int(input(f\"請輸入數字({min}~{max}):\"))\n",
        "  count += 1\n",
        "  if(input_number == random_number):\n",
        "    print(f\"賓果!猜對了, 答案是:{input_number}\")\n",
        "    print(f\"您猜了:{count}次\")\n",
        "    break\n",
        "  elif(input_number>random_number):\n",
        "    print(f\"再小一點\")\n",
        "    max = input_number - 1\n",
        "  elif(input_number<random_number):\n",
        "    print(f\"再大一點\")\n",
        "    min = input_number + 1\n",
        "\n",
        "  print(f\"您已經猜了:{count}次\\n\")\n",
        "\n",
        "\n",
        "print(\"Game Over\")\n"
      ],
      "metadata": {
        "id": "Ivggv6gXIEXz",
        "outputId": "89a74a8d-3248-49e9-8bb1-b414ca86dc7a",
        "colab": {
          "base_uri": "https://localhost:8080/"
        }
      },
      "execution_count": 23,
      "outputs": [
        {
          "output_type": "stream",
          "name": "stdout",
          "text": [
            "=====猜數字遊戲開始=========\n",
            "\n",
            "\n",
            "請輸入數字(1~99):50\n",
            "再小一點\n",
            "您已經猜了:1次\n",
            "\n",
            "請輸入數字(1~49):25\n",
            "再小一點\n",
            "您已經猜了:2次\n",
            "\n",
            "請輸入數字(1~24):13\n",
            "再小一點\n",
            "您已經猜了:3次\n",
            "\n",
            "請輸入數字(1~12):4\n",
            "再大一點\n",
            "您已經猜了:4次\n",
            "\n",
            "請輸入數字(5~12):11\n",
            "再小一點\n",
            "您已經猜了:5次\n",
            "\n",
            "請輸入數字(5~10):8\n",
            "再小一點\n",
            "您已經猜了:6次\n",
            "\n",
            "請輸入數字(5~7):5\n",
            "再大一點\n",
            "您已經猜了:7次\n",
            "\n",
            "請輸入數字(6~7):7\n",
            "賓果!猜對了, 答案是:7\n",
            "您猜了:8次\n",
            "Game Over\n"
          ]
        }
      ]
    },
    {
      "cell_type": "code",
      "source": [
        "orange = 3\n",
        "apple = 5\n",
        "\"您有orange\" + str(orange) + \"個, apple \" + str(apple) + \"個\""
      ],
      "metadata": {
        "id": "BBGPN8cNJfsJ",
        "outputId": "94fe83af-cae0-447c-a18d-366cabe280b6",
        "colab": {
          "base_uri": "https://localhost:8080/",
          "height": 35
        }
      },
      "execution_count": 17,
      "outputs": [
        {
          "output_type": "execute_result",
          "data": {
            "text/plain": [
              "'您有orange3個, apple 5個'"
            ],
            "application/vnd.google.colaboratory.intrinsic+json": {
              "type": "string"
            }
          },
          "metadata": {},
          "execution_count": 17
        }
      ]
    },
    {
      "cell_type": "code",
      "source": [
        "orange = 3\n",
        "apple = 5\n",
        "f\"您有orange{orange}個, apple {apple}個\""
      ],
      "metadata": {
        "id": "mlg4CDEjKYXF",
        "outputId": "c70ec7b4-bbe5-4b2f-893a-7763119acb24",
        "colab": {
          "base_uri": "https://localhost:8080/",
          "height": 35
        }
      },
      "execution_count": 19,
      "outputs": [
        {
          "output_type": "execute_result",
          "data": {
            "text/plain": [
              "'您有orange3個, apple 5個'"
            ],
            "application/vnd.google.colaboratory.intrinsic+json": {
              "type": "string"
            }
          },
          "metadata": {},
          "execution_count": 19
        }
      ]
    }
  ]
}