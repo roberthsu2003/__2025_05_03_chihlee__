{
 "cells": [
  {
   "cell_type": "markdown",
   "id": "d0815993",
   "metadata": {},
   "source": [
    "### 如何呼叫function"
   ]
  },
  {
   "cell_type": "code",
   "execution_count": 1,
   "id": "d88968d1",
   "metadata": {},
   "outputs": [],
   "source": [
    "def menu(wine:str,entree:str,dessert:str)->None:\n",
    "    print(f\"前酒:{wine}\")\n",
    "    print(f\"主餐:{entree}\")\n",
    "    print(f\"甜點:{dessert}\")"
   ]
  },
  {
   "cell_type": "markdown",
   "id": "a910543d",
   "metadata": {},
   "source": [
    "### 引數值的呼叫\n",
    "- 要依照參數的順序"
   ]
  },
  {
   "cell_type": "code",
   "execution_count": 2,
   "id": "585c729c",
   "metadata": {},
   "outputs": [
    {
     "name": "stdout",
     "output_type": "stream",
     "text": [
      "前酒:白酒\n",
      "主餐:牛排\n",
      "甜點:蛋糕\n"
     ]
    }
   ],
   "source": [
    "menu(\"白酒\",\"牛排\",\"蛋糕\")"
   ]
  },
  {
   "cell_type": "markdown",
   "id": "0efe16f6",
   "metadata": {},
   "source": [
    "### 引數名稱的呼叫\n",
    "- 可以不依照順序"
   ]
  },
  {
   "cell_type": "code",
   "execution_count": 4,
   "id": "ff7423b7",
   "metadata": {},
   "outputs": [
    {
     "name": "stdout",
     "output_type": "stream",
     "text": [
      "前酒:白酒\n",
      "主餐:牛排\n",
      "甜點:蛋糕\n"
     ]
    }
   ],
   "source": [
    "menu(entree='牛排',dessert='蛋糕',wine='白酒')"
   ]
  },
  {
   "cell_type": "markdown",
   "id": "a73053c5",
   "metadata": {},
   "source": [
    "### 混合呼叫\n",
    "- 前面使用引數值的呼叫\n",
    "- 後面使用引數名稱的呼叫\n",
    "- 引數名稱後,全部都要用引數名稱"
   ]
  },
  {
   "cell_type": "code",
   "execution_count": 5,
   "id": "3af4054c",
   "metadata": {},
   "outputs": [
    {
     "name": "stdout",
     "output_type": "stream",
     "text": [
      "前酒:白酒\n",
      "主餐:牛排\n",
      "甜點:蛋糕\n"
     ]
    }
   ],
   "source": [
    "menu('白酒',dessert='蛋糕',entree='牛排')"
   ]
  }
 ],
 "metadata": {
  "kernelspec": {
   "display_name": "chihlee1",
   "language": "python",
   "name": "python3"
  },
  "language_info": {
   "codemirror_mode": {
    "name": "ipython",
    "version": 3
   },
   "file_extension": ".py",
   "mimetype": "text/x-python",
   "name": "python",
   "nbconvert_exporter": "python",
   "pygments_lexer": "ipython3",
   "version": "3.10.16"
  }
 },
 "nbformat": 4,
 "nbformat_minor": 5
}
