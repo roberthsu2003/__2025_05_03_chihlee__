{
  "nbformat": 4,
  "nbformat_minor": 0,
  "metadata": {
    "colab": {
      "provenance": [],
      "authorship_tag": "ABX9TyNKXKiYex4Yp6wzxLuN6t//",
      "include_colab_link": true
    },
    "kernelspec": {
      "name": "python3",
      "display_name": "Python 3"
    },
    "language_info": {
      "name": "python"
    }
  },
  "cells": [
    {
      "cell_type": "markdown",
      "metadata": {
        "id": "view-in-github",
        "colab_type": "text"
      },
      "source": [
        "<a href=\"https://colab.research.google.com/github/roberthsu2003/__2025_05_03_chihlee__/blob/main/lesson2/lesson2_2.ipynb\" target=\"_parent\"><img src=\"https://colab.research.google.com/assets/colab-badge.svg\" alt=\"Open In Colab\"/></a>"
      ]
    },
    {
      "cell_type": "markdown",
      "source": [
        "### 只有數值型別可以數學運算"
      ],
      "metadata": {
        "id": "NB5A9Jy0Fn8w"
      }
    },
    {
      "cell_type": "code",
      "execution_count": 3,
      "metadata": {
        "id": "z5z23Q_AFMRL",
        "outputId": "226406b4-70a7-4d97-acac-bbc6a6a4a7b9",
        "colab": {
          "base_uri": "https://localhost:8080/"
        }
      },
      "outputs": [
        {
          "output_type": "execute_result",
          "data": {
            "text/plain": [
              "10.0"
            ]
          },
          "metadata": {},
          "execution_count": 3
        }
      ],
      "source": [
        "5 + 5\n",
        "5.0 + 5.0\n",
        "5 + 5.0"
      ]
    },
    {
      "cell_type": "markdown",
      "source": [
        "### 數值和字串無法數學運算"
      ],
      "metadata": {
        "id": "hdGZaeN_GM5y"
      }
    },
    {
      "cell_type": "code",
      "source": [
        "5 + \"5\""
      ],
      "metadata": {
        "id": "Gq8hbmHjGUfH",
        "outputId": "487e83ab-f0c5-4587-9e15-861a77c0e118",
        "colab": {
          "base_uri": "https://localhost:8080/",
          "height": 144
        }
      },
      "execution_count": 4,
      "outputs": [
        {
          "output_type": "error",
          "ename": "TypeError",
          "evalue": "unsupported operand type(s) for +: 'int' and 'str'",
          "traceback": [
            "\u001b[0;31m---------------------------------------------------------------------------\u001b[0m",
            "\u001b[0;31mTypeError\u001b[0m                                 Traceback (most recent call last)",
            "\u001b[0;32m<ipython-input-4-b265071c056c>\u001b[0m in \u001b[0;36m<cell line: 0>\u001b[0;34m()\u001b[0m\n\u001b[0;32m----> 1\u001b[0;31m \u001b[0;36m5\u001b[0m \u001b[0;34m+\u001b[0m \u001b[0;34m\"5\"\u001b[0m\u001b[0;34m\u001b[0m\u001b[0;34m\u001b[0m\u001b[0m\n\u001b[0m",
            "\u001b[0;31mTypeError\u001b[0m: unsupported operand type(s) for +: 'int' and 'str'"
          ]
        }
      ]
    },
    {
      "cell_type": "markdown",
      "source": [
        "### 字串和字串可以相加,相乘"
      ],
      "metadata": {
        "id": "ZMQF9Kq8GlL3"
      }
    },
    {
      "cell_type": "code",
      "source": [
        "\"5\" + \"5\"\n",
        "\"=\" * 10"
      ],
      "metadata": {
        "id": "ZwxXB-tpGszG",
        "outputId": "acef6ee5-e8c9-4455-aa2e-4a37a1605376",
        "colab": {
          "base_uri": "https://localhost:8080/",
          "height": 35
        }
      },
      "execution_count": 6,
      "outputs": [
        {
          "output_type": "execute_result",
          "data": {
            "text/plain": [
              "'=========='"
            ],
            "application/vnd.google.colaboratory.intrinsic+json": {
              "type": "string"
            }
          },
          "metadata": {},
          "execution_count": 6
        }
      ]
    },
    {
      "cell_type": "markdown",
      "source": [
        "### 暫時轉換型別"
      ],
      "metadata": {
        "id": "MiGEbCWyG-_I"
      }
    },
    {
      "cell_type": "code",
      "source": [
        "5 + float(\"5\")"
      ],
      "metadata": {
        "id": "0pJVSbd2HGnd",
        "outputId": "bfc7b8b5-cfcf-43c3-9121-464d38997d55",
        "colab": {
          "base_uri": "https://localhost:8080/"
        }
      },
      "execution_count": 8,
      "outputs": [
        {
          "output_type": "execute_result",
          "data": {
            "text/plain": [
              "10.0"
            ]
          },
          "metadata": {},
          "execution_count": 8
        }
      ]
    },
    {
      "cell_type": "code",
      "source": [
        "width = float(input(\"請輸入矩型的寬:\"))\n",
        "height = float(input(\"請輸入矩形的高:\"))\n",
        "area = width * height\n",
        "print(\"矩形的面積為:\",area)\n"
      ],
      "metadata": {
        "id": "pB9Ixgy3Hj4D",
        "outputId": "12bb312a-c573-4741-d446-b04d3c5b954a",
        "colab": {
          "base_uri": "https://localhost:8080/"
        }
      },
      "execution_count": 13,
      "outputs": [
        {
          "output_type": "stream",
          "name": "stdout",
          "text": [
            "請輸入矩型的寬:4.678\n",
            "請輸入矩形的高:9.257\n",
            "矩形的面積為: 43.304246\n"
          ]
        }
      ]
    }
  ]
}