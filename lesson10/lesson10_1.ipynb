{
 "cells": [
  {
   "cell_type": "markdown",
   "id": "10a61ec0",
   "metadata": {},
   "source": [
    "https://www.perplexity.ai/search/3fe51208-8e87-4055-9e80-8c6114ac49d3"
   ]
  },
  {
   "cell_type": "code",
   "execution_count": null,
   "id": "f1310dcb",
   "metadata": {},
   "outputs": [
    {
     "data": {
      "text/plain": [
       "list"
      ]
     },
     "execution_count": 7,
     "metadata": {},
     "output_type": "execute_result"
    }
   ],
   "source": [
    "import csv\n",
    "with open('個股日成交資訊.csv',encoding='utf-8',newline='') as csvfile:\n",
    "    reader = csv.reader(csvfile)\n",
    "    next(reader)\n",
    "    stacks:list[list] = list(reader)\n",
    "type(stacks)"
   ]
  }
 ],
 "metadata": {
  "kernelspec": {
   "display_name": "chihlee1",
   "language": "python",
   "name": "python3"
  },
  "language_info": {
   "codemirror_mode": {
    "name": "ipython",
    "version": 3
   },
   "file_extension": ".py",
   "mimetype": "text/x-python",
   "name": "python",
   "nbconvert_exporter": "python",
   "pygments_lexer": "ipython3",
   "version": "3.10.16"
  }
 },
 "nbformat": 4,
 "nbformat_minor": 5
}
