{
 "cells": [
  {
   "cell_type": "markdown",
   "id": "30d057b9",
   "metadata": {},
   "source": [
    "# 結構化專案程式\n",
    "- function"
   ]
  },
  {
   "cell_type": "code",
   "execution_count": 1,
   "id": "56cd5319",
   "metadata": {},
   "outputs": [
    {
     "name": "stdout",
     "output_type": "stream",
     "text": [
      "Hello! Function!\n"
     ]
    }
   ],
   "source": [
    "print(\"Hello! Function!\")"
   ]
  },
  {
   "cell_type": "code",
   "execution_count": 2,
   "id": "bbe7ab26",
   "metadata": {},
   "outputs": [
    {
     "name": "stdout",
     "output_type": "stream",
     "text": [
      "Hello! Second\n"
     ]
    }
   ],
   "source": [
    "print(\"Hello! Second\")"
   ]
  }
 ],
 "metadata": {
  "kernelspec": {
   "display_name": "chihlee1",
   "language": "python",
   "name": "python3"
  },
  "language_info": {
   "codemirror_mode": {
    "name": "ipython",
    "version": 3
   },
   "file_extension": ".py",
   "mimetype": "text/x-python",
   "name": "python",
   "nbconvert_exporter": "python",
   "pygments_lexer": "ipython3",
   "version": "3.10.16"
  }
 },
 "nbformat": 4,
 "nbformat_minor": 5
}
