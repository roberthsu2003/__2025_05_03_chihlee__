{
 "cells": [
  {
   "cell_type": "code",
   "execution_count": 5,
   "id": "a6081195",
   "metadata": {},
   "outputs": [
    {
     "name": "stdout",
     "output_type": "stream",
     "text": [
      "25.24933720489837\n",
      "過重\n"
     ]
    }
   ],
   "source": [
    "def caculate_bmi(height:int,weight:int)->float:\n",
    "    return weight / (height / 100) ** 2\n",
    "\n",
    "def get_state(bmi:float)->str:\n",
    "    if bmi < 18.5:\n",
    "        return \"體重過輕\"\n",
    "    elif bmi < 24:\n",
    "        return \"正常範圍\"\n",
    "    elif bmi < 27:\n",
    "        return \"過重\"\n",
    "    elif bmi < 30:\n",
    "        return \"輕度肥胖\"\n",
    "    elif bmi < 35:\n",
    "        return \"中度肥胖\"\n",
    "    else:\n",
    "        return \"重度肥胖\"\n",
    "\n",
    "height:int = int(input(\"請輸入身高(cm):\"))\n",
    "weight:int = int(input(\"請輸入體重(kg):\"))\n",
    "\n",
    "bmi = caculate_bmi(height, weight)\n",
    "\n",
    "print(bmi)\n",
    "print(get_state(bmi))"
   ]
  }
 ],
 "metadata": {
  "kernelspec": {
   "display_name": "chihlee1",
   "language": "python",
   "name": "python3"
  },
  "language_info": {
   "codemirror_mode": {
    "name": "ipython",
    "version": 3
   },
   "file_extension": ".py",
   "mimetype": "text/x-python",
   "name": "python",
   "nbconvert_exporter": "python",
   "pygments_lexer": "ipython3",
   "version": "3.10.16"
  }
 },
 "nbformat": 4,
 "nbformat_minor": 5
}
