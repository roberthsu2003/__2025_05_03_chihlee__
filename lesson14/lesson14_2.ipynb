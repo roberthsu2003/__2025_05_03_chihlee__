{
 "cells": [
  {
   "cell_type": "code",
   "execution_count": 21,
   "id": "7034b389",
   "metadata": {},
   "outputs": [
    {
     "name": "stderr",
     "output_type": "stream",
     "text": [
      "[*********************100%***********************]  1 of 1 completed\n",
      "[*********************100%***********************]  1 of 1 completed\n",
      "[*********************100%***********************]  1 of 1 completed\n",
      "[*********************100%***********************]  1 of 1 completed\n"
     ]
    }
   ],
   "source": [
    "import yfinance as yf\n",
    "tw2330 = yf.download('2330.TW', start='2024-01-01', end='2024-06-01',auto_adjust=True)\n",
    "tw2303 = yf.download('2303.TW', start='2024-01-01', end='2024-06-01',auto_adjust=True)\n",
    "tw2454 = yf.download('2454.TW', start='2024-01-01', end='2024-06-01',auto_adjust=True)  \n",
    "tw2317 = yf.download('2317.TW', start='2024-01-01', end='2024-06-01',auto_adjust=True)\n"
   ]
  },
  {
   "cell_type": "code",
   "execution_count": 22,
   "id": "731f651d",
   "metadata": {},
   "outputs": [
    {
     "name": "stdout",
     "output_type": "stream",
     "text": [
      "<class 'pandas.core.frame.DataFrame'>\n",
      "DatetimeIndex: 98 entries, 2024-01-02 to 2024-05-31\n",
      "Data columns (total 5 columns):\n",
      " #   Column             Non-Null Count  Dtype  \n",
      "---  ------             --------------  -----  \n",
      " 0   (Close, 2330.TW)   98 non-null     float64\n",
      " 1   (High, 2330.TW)    98 non-null     float64\n",
      " 2   (Low, 2330.TW)     98 non-null     float64\n",
      " 3   (Open, 2330.TW)    98 non-null     float64\n",
      " 4   (Volume, 2330.TW)  98 non-null     int64  \n",
      "dtypes: float64(4), int64(1)\n",
      "memory usage: 4.6 KB\n"
     ]
    }
   ],
   "source": [
    "tw2330.info()"
   ]
  },
  {
   "cell_type": "code",
   "execution_count": 23,
   "id": "80653da2",
   "metadata": {},
   "outputs": [],
   "source": [
    "tw2330['Close']['2330.TW']\n",
    "tw2330_data= tw2330[('Close','2330.TW')]\n",
    "tw2303_data = tw2303[('Close','2303.TW')]\n",
    "tw2454_data = tw2454[('Close','2454.TW')]\n",
    "tw2317_data = tw2317[('Close','2317.TW')]"
   ]
  },
  {
   "cell_type": "code",
   "execution_count": 25,
   "id": "b111d48c",
   "metadata": {},
   "outputs": [
    {
     "data": {
      "text/html": [
       "<div>\n",
       "<style scoped>\n",
       "    .dataframe tbody tr th:only-of-type {\n",
       "        vertical-align: middle;\n",
       "    }\n",
       "\n",
       "    .dataframe tbody tr th {\n",
       "        vertical-align: top;\n",
       "    }\n",
       "\n",
       "    .dataframe thead th {\n",
       "        text-align: right;\n",
       "    }\n",
       "</style>\n",
       "<table border=\"1\" class=\"dataframe\">\n",
       "  <thead>\n",
       "    <tr style=\"text-align: right;\">\n",
       "      <th></th>\n",
       "      <th>台積電</th>\n",
       "      <th>聯電</th>\n",
       "      <th>聯發科</th>\n",
       "      <th>鴻海</th>\n",
       "    </tr>\n",
       "    <tr>\n",
       "      <th>Date</th>\n",
       "      <th></th>\n",
       "      <th></th>\n",
       "      <th></th>\n",
       "      <th></th>\n",
       "    </tr>\n",
       "  </thead>\n",
       "  <tbody>\n",
       "    <tr>\n",
       "      <th>2024-01-02</th>\n",
       "      <td>593.0</td>\n",
       "      <td>51.900002</td>\n",
       "      <td>915.833191</td>\n",
       "      <td>102.375000</td>\n",
       "    </tr>\n",
       "    <tr>\n",
       "      <th>2024-01-03</th>\n",
       "      <td>578.0</td>\n",
       "      <td>50.599998</td>\n",
       "      <td>889.693237</td>\n",
       "      <td>101.887505</td>\n",
       "    </tr>\n",
       "    <tr>\n",
       "      <th>2024-01-04</th>\n",
       "      <td>580.0</td>\n",
       "      <td>50.799999</td>\n",
       "      <td>889.309814</td>\n",
       "      <td>101.400002</td>\n",
       "    </tr>\n",
       "    <tr>\n",
       "      <th>2024-01-05</th>\n",
       "      <td>576.0</td>\n",
       "      <td>50.799999</td>\n",
       "      <td>882.601746</td>\n",
       "      <td>101.400002</td>\n",
       "    </tr>\n",
       "    <tr>\n",
       "      <th>2024-01-08</th>\n",
       "      <td>583.0</td>\n",
       "      <td>50.500000</td>\n",
       "      <td>881.643433</td>\n",
       "      <td>98.962502</td>\n",
       "    </tr>\n",
       "    <tr>\n",
       "      <th>...</th>\n",
       "      <td>...</td>\n",
       "      <td>...</td>\n",
       "      <td>...</td>\n",
       "      <td>...</td>\n",
       "    </tr>\n",
       "    <tr>\n",
       "      <th>2024-05-27</th>\n",
       "      <td>869.0</td>\n",
       "      <td>56.599998</td>\n",
       "      <td>1231.425781</td>\n",
       "      <td>180.375000</td>\n",
       "    </tr>\n",
       "    <tr>\n",
       "      <th>2024-05-28</th>\n",
       "      <td>865.0</td>\n",
       "      <td>56.400002</td>\n",
       "      <td>1255.383545</td>\n",
       "      <td>180.862503</td>\n",
       "    </tr>\n",
       "    <tr>\n",
       "      <th>2024-05-29</th>\n",
       "      <td>857.0</td>\n",
       "      <td>55.900002</td>\n",
       "      <td>1236.217407</td>\n",
       "      <td>175.987503</td>\n",
       "    </tr>\n",
       "    <tr>\n",
       "      <th>2024-05-30</th>\n",
       "      <td>838.0</td>\n",
       "      <td>55.799999</td>\n",
       "      <td>1236.217407</td>\n",
       "      <td>172.087509</td>\n",
       "    </tr>\n",
       "    <tr>\n",
       "      <th>2024-05-31</th>\n",
       "      <td>821.0</td>\n",
       "      <td>55.000000</td>\n",
       "      <td>1183.510498</td>\n",
       "      <td>167.699997</td>\n",
       "    </tr>\n",
       "  </tbody>\n",
       "</table>\n",
       "<p>98 rows × 4 columns</p>\n",
       "</div>"
      ],
      "text/plain": [
       "              台積電         聯電          聯發科          鴻海\n",
       "Date                                                 \n",
       "2024-01-02  593.0  51.900002   915.833191  102.375000\n",
       "2024-01-03  578.0  50.599998   889.693237  101.887505\n",
       "2024-01-04  580.0  50.799999   889.309814  101.400002\n",
       "2024-01-05  576.0  50.799999   882.601746  101.400002\n",
       "2024-01-08  583.0  50.500000   881.643433   98.962502\n",
       "...           ...        ...          ...         ...\n",
       "2024-05-27  869.0  56.599998  1231.425781  180.375000\n",
       "2024-05-28  865.0  56.400002  1255.383545  180.862503\n",
       "2024-05-29  857.0  55.900002  1236.217407  175.987503\n",
       "2024-05-30  838.0  55.799999  1236.217407  172.087509\n",
       "2024-05-31  821.0  55.000000  1183.510498  167.699997\n",
       "\n",
       "[98 rows x 4 columns]"
      ]
     },
     "execution_count": 25,
     "metadata": {},
     "output_type": "execute_result"
    }
   ],
   "source": [
    "import pandas as pd\n",
    "data = {\n",
    "    \"台積電\":tw2330_data,\n",
    "    \"聯電\":tw2303_data,\n",
    "    \"聯發科\":tw2454_data,\n",
    "    \"鴻海\":tw2317_data\n",
    "}\n",
    "df = pd.DataFrame(data)\n",
    "df"
   ]
  },
  {
   "cell_type": "code",
   "execution_count": 26,
   "id": "da8dbd2f",
   "metadata": {},
   "outputs": [
    {
     "data": {
      "text/plain": [
       "<Axes: xlabel='Date'>"
      ]
     },
     "execution_count": 26,
     "metadata": {},
     "output_type": "execute_result"
    },
    {
     "name": "stderr",
     "output_type": "stream",
     "text": [
      "/opt/miniconda3/envs/chihlee/lib/python3.10/site-packages/IPython/core/events.py:82: UserWarning: Glyph 21488 (\\N{CJK UNIFIED IDEOGRAPH-53F0}) missing from font(s) DejaVu Sans.\n",
      "  func(*args, **kwargs)\n",
      "/opt/miniconda3/envs/chihlee/lib/python3.10/site-packages/IPython/core/events.py:82: UserWarning: Glyph 31309 (\\N{CJK UNIFIED IDEOGRAPH-7A4D}) missing from font(s) DejaVu Sans.\n",
      "  func(*args, **kwargs)\n",
      "/opt/miniconda3/envs/chihlee/lib/python3.10/site-packages/IPython/core/events.py:82: UserWarning: Glyph 38651 (\\N{CJK UNIFIED IDEOGRAPH-96FB}) missing from font(s) DejaVu Sans.\n",
      "  func(*args, **kwargs)\n",
      "/opt/miniconda3/envs/chihlee/lib/python3.10/site-packages/IPython/core/events.py:82: UserWarning: Glyph 32879 (\\N{CJK UNIFIED IDEOGRAPH-806F}) missing from font(s) DejaVu Sans.\n",
      "  func(*args, **kwargs)\n",
      "/opt/miniconda3/envs/chihlee/lib/python3.10/site-packages/IPython/core/events.py:82: UserWarning: Glyph 30332 (\\N{CJK UNIFIED IDEOGRAPH-767C}) missing from font(s) DejaVu Sans.\n",
      "  func(*args, **kwargs)\n",
      "/opt/miniconda3/envs/chihlee/lib/python3.10/site-packages/IPython/core/events.py:82: UserWarning: Glyph 31185 (\\N{CJK UNIFIED IDEOGRAPH-79D1}) missing from font(s) DejaVu Sans.\n",
      "  func(*args, **kwargs)\n",
      "/opt/miniconda3/envs/chihlee/lib/python3.10/site-packages/IPython/core/events.py:82: UserWarning: Glyph 40251 (\\N{CJK UNIFIED IDEOGRAPH-9D3B}) missing from font(s) DejaVu Sans.\n",
      "  func(*args, **kwargs)\n",
      "/opt/miniconda3/envs/chihlee/lib/python3.10/site-packages/IPython/core/events.py:82: UserWarning: Glyph 28023 (\\N{CJK UNIFIED IDEOGRAPH-6D77}) missing from font(s) DejaVu Sans.\n",
      "  func(*args, **kwargs)\n",
      "/opt/miniconda3/envs/chihlee/lib/python3.10/site-packages/IPython/core/pylabtools.py:170: UserWarning: Glyph 21488 (\\N{CJK UNIFIED IDEOGRAPH-53F0}) missing from font(s) DejaVu Sans.\n",
      "  fig.canvas.print_figure(bytes_io, **kw)\n",
      "/opt/miniconda3/envs/chihlee/lib/python3.10/site-packages/IPython/core/pylabtools.py:170: UserWarning: Glyph 31309 (\\N{CJK UNIFIED IDEOGRAPH-7A4D}) missing from font(s) DejaVu Sans.\n",
      "  fig.canvas.print_figure(bytes_io, **kw)\n",
      "/opt/miniconda3/envs/chihlee/lib/python3.10/site-packages/IPython/core/pylabtools.py:170: UserWarning: Glyph 38651 (\\N{CJK UNIFIED IDEOGRAPH-96FB}) missing from font(s) DejaVu Sans.\n",
      "  fig.canvas.print_figure(bytes_io, **kw)\n",
      "/opt/miniconda3/envs/chihlee/lib/python3.10/site-packages/IPython/core/pylabtools.py:170: UserWarning: Glyph 32879 (\\N{CJK UNIFIED IDEOGRAPH-806F}) missing from font(s) DejaVu Sans.\n",
      "  fig.canvas.print_figure(bytes_io, **kw)\n",
      "/opt/miniconda3/envs/chihlee/lib/python3.10/site-packages/IPython/core/pylabtools.py:170: UserWarning: Glyph 30332 (\\N{CJK UNIFIED IDEOGRAPH-767C}) missing from font(s) DejaVu Sans.\n",
      "  fig.canvas.print_figure(bytes_io, **kw)\n",
      "/opt/miniconda3/envs/chihlee/lib/python3.10/site-packages/IPython/core/pylabtools.py:170: UserWarning: Glyph 31185 (\\N{CJK UNIFIED IDEOGRAPH-79D1}) missing from font(s) DejaVu Sans.\n",
      "  fig.canvas.print_figure(bytes_io, **kw)\n",
      "/opt/miniconda3/envs/chihlee/lib/python3.10/site-packages/IPython/core/pylabtools.py:170: UserWarning: Glyph 40251 (\\N{CJK UNIFIED IDEOGRAPH-9D3B}) missing from font(s) DejaVu Sans.\n",
      "  fig.canvas.print_figure(bytes_io, **kw)\n",
      "/opt/miniconda3/envs/chihlee/lib/python3.10/site-packages/IPython/core/pylabtools.py:170: UserWarning: Glyph 28023 (\\N{CJK UNIFIED IDEOGRAPH-6D77}) missing from font(s) DejaVu Sans.\n",
      "  fig.canvas.print_figure(bytes_io, **kw)\n"
     ]
    },
    {
     "data": {
      "image/png": "[encoded data removed]",
      "text/plain": [
       "<Figure size 640x480 with 1 Axes>"
      ]
     },
     "metadata": {},
     "output_type": "display_data"
    }
   ],
   "source": [
    "df.plot()"
   ]
  }
 ],
 "metadata": {
  "kernelspec": {
   "display_name": "chihlee",
   "language": "python",
   "name": "python3"
  },
  "language_info": {
   "codemirror_mode": {
    "name": "ipython",
    "version": 3
   },
   "file_extension": ".py",
   "mimetype": "text/x-python",
   "name": "python",
   "nbconvert_exporter": "python",
   "pygments_lexer": "ipython3",
   "version": "3.10.18"
  }
 },
 "nbformat": 4,
 "nbformat_minor": 5
}
