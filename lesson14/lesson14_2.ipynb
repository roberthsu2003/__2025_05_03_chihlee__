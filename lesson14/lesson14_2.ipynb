{
 "cells": [
  {
   "cell_type": "code",
   "execution_count": 4,
   "id": "7034b389",
   "metadata": {},
   "outputs": [
    {
     "name": "stderr",
     "output_type": "stream",
     "text": [
      "[*********************100%***********************]  1 of 1 completed\n"
     ]
    },
    {
     "data": {
      "text/html": [
       "<div>\n",
       "<style scoped>\n",
       "    .dataframe tbody tr th:only-of-type {\n",
       "        vertical-align: middle;\n",
       "    }\n",
       "\n",
       "    .dataframe tbody tr th {\n",
       "        vertical-align: top;\n",
       "    }\n",
       "\n",
       "    .dataframe thead tr th {\n",
       "        text-align: left;\n",
       "    }\n",
       "\n",
       "    .dataframe thead tr:last-of-type th {\n",
       "        text-align: right;\n",
       "    }\n",
       "</style>\n",
       "<table border=\"1\" class=\"dataframe\">\n",
       "  <thead>\n",
       "    <tr>\n",
       "      <th>Price</th>\n",
       "      <th>Close</th>\n",
       "      <th>High</th>\n",
       "      <th>Low</th>\n",
       "      <th>Open</th>\n",
       "      <th>Volume</th>\n",
       "    </tr>\n",
       "    <tr>\n",
       "      <th>Ticker</th>\n",
       "      <th>2330.TW</th>\n",
       "      <th>2330.TW</th>\n",
       "      <th>2330.TW</th>\n",
       "      <th>2330.TW</th>\n",
       "      <th>2330.TW</th>\n",
       "    </tr>\n",
       "    <tr>\n",
       "      <th>Date</th>\n",
       "      <th></th>\n",
       "      <th></th>\n",
       "      <th></th>\n",
       "      <th></th>\n",
       "      <th></th>\n",
       "    </tr>\n",
       "  </thead>\n",
       "  <tbody>\n",
       "    <tr>\n",
       "      <th>2024-05-27</th>\n",
       "      <td>869.0</td>\n",
       "      <td>878.0</td>\n",
       "      <td>866.0</td>\n",
       "      <td>872.0</td>\n",
       "      <td>26726954</td>\n",
       "    </tr>\n",
       "    <tr>\n",
       "      <th>2024-05-28</th>\n",
       "      <td>865.0</td>\n",
       "      <td>873.0</td>\n",
       "      <td>865.0</td>\n",
       "      <td>867.0</td>\n",
       "      <td>25329216</td>\n",
       "    </tr>\n",
       "    <tr>\n",
       "      <th>2024-05-29</th>\n",
       "      <td>857.0</td>\n",
       "      <td>868.0</td>\n",
       "      <td>856.0</td>\n",
       "      <td>861.0</td>\n",
       "      <td>33436835</td>\n",
       "    </tr>\n",
       "    <tr>\n",
       "      <th>2024-05-30</th>\n",
       "      <td>838.0</td>\n",
       "      <td>848.0</td>\n",
       "      <td>838.0</td>\n",
       "      <td>841.0</td>\n",
       "      <td>38065102</td>\n",
       "    </tr>\n",
       "    <tr>\n",
       "      <th>2024-05-31</th>\n",
       "      <td>821.0</td>\n",
       "      <td>846.0</td>\n",
       "      <td>821.0</td>\n",
       "      <td>838.0</td>\n",
       "      <td>77438401</td>\n",
       "    </tr>\n",
       "  </tbody>\n",
       "</table>\n",
       "</div>"
      ],
      "text/plain": [
       "Price        Close    High     Low    Open    Volume\n",
       "Ticker     2330.TW 2330.TW 2330.TW 2330.TW   2330.TW\n",
       "Date                                                \n",
       "2024-05-27   869.0   878.0   866.0   872.0  26726954\n",
       "2024-05-28   865.0   873.0   865.0   867.0  25329216\n",
       "2024-05-29   857.0   868.0   856.0   861.0  33436835\n",
       "2024-05-30   838.0   848.0   838.0   841.0  38065102\n",
       "2024-05-31   821.0   846.0   821.0   838.0  77438401"
      ]
     },
     "execution_count": 4,
     "metadata": {},
     "output_type": "execute_result"
    }
   ],
   "source": [
    "import yfinance as yf\n",
    "df = yf.download('2330.TW', start='2024-01-01', end='2024-06-01',auto_adjust=True)\n",
    "df.tail()"
   ]
  }
 ],
 "metadata": {
  "kernelspec": {
   "display_name": "chihlee",
   "language": "python",
   "name": "python3"
  },
  "language_info": {
   "codemirror_mode": {
    "name": "ipython",
    "version": 3
   },
   "file_extension": ".py",
   "mimetype": "text/x-python",
   "name": "python",
   "nbconvert_exporter": "python",
   "pygments_lexer": "ipython3",
   "version": "3.10.18"
  }
 },
 "nbformat": 4,
 "nbformat_minor": 5
}
