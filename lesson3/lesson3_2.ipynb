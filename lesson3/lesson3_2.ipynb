{
  "nbformat": 4,
  "nbformat_minor": 0,
  "metadata": {
    "colab": {
      "provenance": [],
      "authorship_tag": "ABX9TyNwPixu8IqI0H7rDsNMPrmj",
      "include_colab_link": true
    },
    "kernelspec": {
      "name": "python3",
      "display_name": "Python 3"
    },
    "language_info": {
      "name": "python"
    }
  },
  "cells": [
    {
      "cell_type": "markdown",
      "metadata": {
        "id": "view-in-github",
        "colab_type": "text"
      },
      "source": [
        "<a href=\"https://colab.research.google.com/github/roberthsu2003/__2025_05_03_chihlee__/blob/main/lesson3/lesson3_2.ipynb\" target=\"_parent\"><img src=\"https://colab.research.google.com/assets/colab-badge.svg\" alt=\"Open In Colab\"/></a>"
      ]
    },
    {
      "cell_type": "markdown",
      "source": [
        "# python邏輯運算子\n",
        "\n",
        "---\n",
        "Python的邏輯運算子主要用於結合多個條件判斷，結果為布林值（True或False）。\n",
        "\n",
        "Python中有三種基本的邏輯運算子：\n",
        "\n",
        "Python邏輯運算子及語法說明\n",
        "\n",
        "- and：邏輯且運算子，當兩個條件都為True時，整體結果才為True，否則為False。\n",
        "- or：邏輯或運算子，只要其中一個條件為True，整體結果即為True，只有全部為False時結果才為False。\n",
        "- not：邏輯非運算子，將條件結果取反，True變False，False變True。"
      ],
      "metadata": {
        "id": "jjMsaWJxKWka"
      }
    },
    {
      "cell_type": "code",
      "execution_count": 1,
      "metadata": {
        "id": "Klso9cPIKCNF",
        "colab": {
          "base_uri": "https://localhost:8080/"
        },
        "outputId": "c496b9be-459a-4cb0-f454-4b98ffb55468"
      },
      "outputs": [
        {
          "output_type": "stream",
          "name": "stdout",
          "text": [
            "血壓正常\n"
          ]
        }
      ],
      "source": [
        "presure = 92\n",
        "if presure >= 80:\n",
        "  if presure <= 120:\n",
        "    print(\"血壓正常\")"
      ]
    },
    {
      "cell_type": "code",
      "source": [
        "presure = 92\n",
        "if presure >=80 and presure <= 120:\n",
        "  print(\"血壓正常\")\n",
        "else:\n",
        "  print(\"血壓不正常\")"
      ],
      "metadata": {
        "colab": {
          "base_uri": "https://localhost:8080/"
        },
        "id": "88rupzGpMKMK",
        "outputId": "369260e8-41b9-4964-9475-3bb356865a24"
      },
      "execution_count": 2,
      "outputs": [
        {
          "output_type": "stream",
          "name": "stdout",
          "text": [
            "血壓正常\n"
          ]
        }
      ]
    },
    {
      "cell_type": "code",
      "source": [
        "presure = 92\n",
        "if presure < 80 or presure > 120:\n",
        "  print(\"血壓不正常\")\n",
        "else:\n",
        "  print(\"血壓正常\")"
      ],
      "metadata": {
        "colab": {
          "base_uri": "https://localhost:8080/"
        },
        "id": "BCyrrVKuNL5E",
        "outputId": "08e1f568-7055-4e2d-bf9e-5ae571db300d"
      },
      "execution_count": 3,
      "outputs": [
        {
          "output_type": "stream",
          "name": "stdout",
          "text": [
            "血壓正常\n"
          ]
        }
      ]
    },
    {
      "cell_type": "code",
      "source": [
        "#not的功能是讓true和false的程式區塊對調\n",
        "presure = 130\n",
        "if not (presure >=80 and presure <= 120):\n",
        "  print(\"血壓不正常\")\n",
        "else:\n",
        "  print(\"血壓正常\")\n",
        ""
      ],
      "metadata": {
        "colab": {
          "base_uri": "https://localhost:8080/"
        },
        "id": "2wAlyXD7Nu9l",
        "outputId": "e7b9a9e9-cd01-4720-ac61-f20e08926dc5"
      },
      "execution_count": 6,
      "outputs": [
        {
          "output_type": "stream",
          "name": "stdout",
          "text": [
            "血壓不正常\n"
          ]
        }
      ]
    }
  ]
}